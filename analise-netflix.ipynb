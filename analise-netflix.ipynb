{
 "cells": [
  {
   "cell_type": "markdown",
   "id": "28a68874",
   "metadata": {},
   "source": [
    "# 1. Bem vindo!\n",
    "<p><img src=\"https://images.unsplash.com/photo-1522869635100-9f4c5e86aa37?ixlib=rb-1.2.1&ixid=MnwxMjA3fDB8MHxwaG90by1wYWdlfHx8fGVufDB8fHx8&auto=format&fit=crop&w=870&q=80\"/></p>\n",
    "\n",
    "<p><strong>Netflix</strong> é uma provedora global de filmes e séries de televisão via streaming sediada em Los Gatos, Califórnia, e que atualmente possui mais de 220 milhões de assinantes. Fundada em 1997 nos Estados Unidos, a empresa surgiu como um serviço de entrega de DVD pelo correio. A expansão do streaming, disponível nos Estados Unidos a partir de 2007, começou pelo Canadá em 2010. Hoje, mais de 190 países têm acesso à plataforma. Em novembro de 2021, a Netflix passou a The Walt Disney Company e se tornou a empresa de entretenimento com maior valor de mercado do mundo (291 bilhões de dólares)</p>\n",
    "\n",
    "\n",
    "\n",
    "<p>Neste notebook, examinaremos um conjunto de dados do catálogo da Netflix, e tentaremos entender como a duração dos filmes se comporta com o passar do tempo e com os diferentes gêneros. Para isso, usaremos o seguinte conjunto de dados: <code>netflix_titles.csv</code>, que foi baixado do Kaggle <a href=\"https://www.kaggle.com/shivamb/netflix-shows\">aqui</a>.</p>\n",
    "\n",
    "<br>\n",
    "\n",
    "<div style=\"background-color: #efebe4; color: #05192d; text-align:left; vertical-align:middle; padding: 15px 25px 15px 25px; line-height:1.6;\">\n",
    "    <div style=\"font-size:20px\"><b>netflix_titles.csv</b></div>\n",
    "<ul>\n",
    "    <li><b>show_id:</b> ID único para cada filme / tv show</li>\n",
    "    <li><b>type:</b> Identificador - filme ou tv show</li>\n",
    "    <li><b>title:</b> Título do filme / tv show</li>\n",
    "    <li><b>director:</b> Diretor</li>\n",
    "    <li><b>cast:</b> Atores envolvidos no filme / tv show</li>\n",
    "    <li><b>country:</b> País no qual foi produzido</li>\n",
    "    <li><b>date_added:</b> Data que foi adicionado à Netflix</li>\n",
    "    <li><b>release_year:</b> Ano de lançamento</li>\n",
    "    <li><b>rating:</b> Classificação de TV</li>\n",
    "    <li><b>duration:</b> Duração total</li>\n",
    "    <li><b>listed_in:</b> Categoria do filme / tv show</li>\n",
    "    <li><b>description:</b> Descrição do filme / tv show</li>\n",
    "</div>\n",
    "\n",
    "Fonte: <a href=\"https://pt.wikipedia.org/wiki/Netflix\">wikipedia</a>\n"
   ]
  },
  {
   "cell_type": "markdown",
   "id": "4fe084c1",
   "metadata": {},
   "source": [
    "### 2. Preparação dos dados - Parte 1\n",
    "\n",
    "* Carregar os pacotes que serão utilizados na análise;\n",
    "* Carregar o dataset;\n",
    "* Verificar a dimensão, os tipos de dados e as colunas do dataset;\n",
    "* Filtrar valores;\n",
    "* Excluir colunas irrelevantes para o estudo;\n",
    "* Renomear colunas;"
   ]
  },
  {
   "cell_type": "code",
   "execution_count": 1,
   "id": "2fce4f97",
   "metadata": {},
   "outputs": [
    {
     "data": {
      "text/html": [
       "<div>\n",
       "<style scoped>\n",
       "    .dataframe tbody tr th:only-of-type {\n",
       "        vertical-align: middle;\n",
       "    }\n",
       "\n",
       "    .dataframe tbody tr th {\n",
       "        vertical-align: top;\n",
       "    }\n",
       "\n",
       "    .dataframe thead th {\n",
       "        text-align: right;\n",
       "    }\n",
       "</style>\n",
       "<table border=\"1\" class=\"dataframe\">\n",
       "  <thead>\n",
       "    <tr style=\"text-align: right;\">\n",
       "      <th></th>\n",
       "      <th>show_id</th>\n",
       "      <th>type</th>\n",
       "      <th>title</th>\n",
       "      <th>director</th>\n",
       "      <th>cast</th>\n",
       "      <th>country</th>\n",
       "      <th>date_added</th>\n",
       "      <th>release_year</th>\n",
       "      <th>rating</th>\n",
       "      <th>duration</th>\n",
       "      <th>listed_in</th>\n",
       "      <th>description</th>\n",
       "    </tr>\n",
       "  </thead>\n",
       "  <tbody>\n",
       "    <tr>\n",
       "      <th>0</th>\n",
       "      <td>s1</td>\n",
       "      <td>Movie</td>\n",
       "      <td>Dick Johnson Is Dead</td>\n",
       "      <td>Kirsten Johnson</td>\n",
       "      <td>NaN</td>\n",
       "      <td>United States</td>\n",
       "      <td>September 25, 2021</td>\n",
       "      <td>2020</td>\n",
       "      <td>PG-13</td>\n",
       "      <td>90 min</td>\n",
       "      <td>Documentaries</td>\n",
       "      <td>As her father nears the end of his life, filmm...</td>\n",
       "    </tr>\n",
       "    <tr>\n",
       "      <th>1</th>\n",
       "      <td>s2</td>\n",
       "      <td>TV Show</td>\n",
       "      <td>Blood &amp; Water</td>\n",
       "      <td>NaN</td>\n",
       "      <td>Ama Qamata, Khosi Ngema, Gail Mabalane, Thaban...</td>\n",
       "      <td>South Africa</td>\n",
       "      <td>September 24, 2021</td>\n",
       "      <td>2021</td>\n",
       "      <td>TV-MA</td>\n",
       "      <td>2 Seasons</td>\n",
       "      <td>International TV Shows, TV Dramas, TV Mysteries</td>\n",
       "      <td>After crossing paths at a party, a Cape Town t...</td>\n",
       "    </tr>\n",
       "    <tr>\n",
       "      <th>2</th>\n",
       "      <td>s3</td>\n",
       "      <td>TV Show</td>\n",
       "      <td>Ganglands</td>\n",
       "      <td>Julien Leclercq</td>\n",
       "      <td>Sami Bouajila, Tracy Gotoas, Samuel Jouy, Nabi...</td>\n",
       "      <td>NaN</td>\n",
       "      <td>September 24, 2021</td>\n",
       "      <td>2021</td>\n",
       "      <td>TV-MA</td>\n",
       "      <td>1 Season</td>\n",
       "      <td>Crime TV Shows, International TV Shows, TV Act...</td>\n",
       "      <td>To protect his family from a powerful drug lor...</td>\n",
       "    </tr>\n",
       "    <tr>\n",
       "      <th>3</th>\n",
       "      <td>s4</td>\n",
       "      <td>TV Show</td>\n",
       "      <td>Jailbirds New Orleans</td>\n",
       "      <td>NaN</td>\n",
       "      <td>NaN</td>\n",
       "      <td>NaN</td>\n",
       "      <td>September 24, 2021</td>\n",
       "      <td>2021</td>\n",
       "      <td>TV-MA</td>\n",
       "      <td>1 Season</td>\n",
       "      <td>Docuseries, Reality TV</td>\n",
       "      <td>Feuds, flirtations and toilet talk go down amo...</td>\n",
       "    </tr>\n",
       "    <tr>\n",
       "      <th>4</th>\n",
       "      <td>s5</td>\n",
       "      <td>TV Show</td>\n",
       "      <td>Kota Factory</td>\n",
       "      <td>NaN</td>\n",
       "      <td>Mayur More, Jitendra Kumar, Ranjan Raj, Alam K...</td>\n",
       "      <td>India</td>\n",
       "      <td>September 24, 2021</td>\n",
       "      <td>2021</td>\n",
       "      <td>TV-MA</td>\n",
       "      <td>2 Seasons</td>\n",
       "      <td>International TV Shows, Romantic TV Shows, TV ...</td>\n",
       "      <td>In a city of coaching centers known to train I...</td>\n",
       "    </tr>\n",
       "  </tbody>\n",
       "</table>\n",
       "</div>"
      ],
      "text/plain": [
       "  show_id     type                  title         director  \\\n",
       "0      s1    Movie   Dick Johnson Is Dead  Kirsten Johnson   \n",
       "1      s2  TV Show          Blood & Water              NaN   \n",
       "2      s3  TV Show              Ganglands  Julien Leclercq   \n",
       "3      s4  TV Show  Jailbirds New Orleans              NaN   \n",
       "4      s5  TV Show           Kota Factory              NaN   \n",
       "\n",
       "                                                cast        country  \\\n",
       "0                                                NaN  United States   \n",
       "1  Ama Qamata, Khosi Ngema, Gail Mabalane, Thaban...   South Africa   \n",
       "2  Sami Bouajila, Tracy Gotoas, Samuel Jouy, Nabi...            NaN   \n",
       "3                                                NaN            NaN   \n",
       "4  Mayur More, Jitendra Kumar, Ranjan Raj, Alam K...          India   \n",
       "\n",
       "           date_added  release_year rating   duration  \\\n",
       "0  September 25, 2021          2020  PG-13     90 min   \n",
       "1  September 24, 2021          2021  TV-MA  2 Seasons   \n",
       "2  September 24, 2021          2021  TV-MA   1 Season   \n",
       "3  September 24, 2021          2021  TV-MA   1 Season   \n",
       "4  September 24, 2021          2021  TV-MA  2 Seasons   \n",
       "\n",
       "                                           listed_in  \\\n",
       "0                                      Documentaries   \n",
       "1    International TV Shows, TV Dramas, TV Mysteries   \n",
       "2  Crime TV Shows, International TV Shows, TV Act...   \n",
       "3                             Docuseries, Reality TV   \n",
       "4  International TV Shows, Romantic TV Shows, TV ...   \n",
       "\n",
       "                                         description  \n",
       "0  As her father nears the end of his life, filmm...  \n",
       "1  After crossing paths at a party, a Cape Town t...  \n",
       "2  To protect his family from a powerful drug lor...  \n",
       "3  Feuds, flirtations and toilet talk go down amo...  \n",
       "4  In a city of coaching centers known to train I...  "
      ]
     },
     "execution_count": 1,
     "metadata": {},
     "output_type": "execute_result"
    }
   ],
   "source": [
    "# Carregando pacotes, datset e verificando as primeiras linhas\n",
    "import numpy as np\n",
    "import pandas as pd\n",
    "import matplotlib.pyplot as plt\n",
    "\n",
    "df = pd.read_csv('netflix_titles.csv')\n",
    "df.head()"
   ]
  },
  {
   "cell_type": "code",
   "execution_count": 2,
   "id": "fe00dcc2",
   "metadata": {},
   "outputs": [
    {
     "name": "stdout",
     "output_type": "stream",
     "text": [
      "Dimensão: (8807, 12)\n",
      "\n",
      "Tipos das variáveis:\n",
      " show_id         object\n",
      "type            object\n",
      "title           object\n",
      "director        object\n",
      "cast            object\n",
      "country         object\n",
      "date_added      object\n",
      "release_year     int64\n",
      "rating          object\n",
      "duration        object\n",
      "listed_in       object\n",
      "description     object\n",
      "dtype: object\n",
      "\n",
      "Colunas:\n",
      " Index(['show_id', 'type', 'title', 'director', 'cast', 'country', 'date_added',\n",
      "       'release_year', 'rating', 'duration', 'listed_in', 'description'],\n",
      "      dtype='object')\n"
     ]
    }
   ],
   "source": [
    "# Verificando a dimensão, os tipos de variáveis e as colunas do dataset\n",
    "print('Dimensão:',df.shape)\n",
    "print('\\nTipos das variáveis:\\n', df.dtypes)\n",
    "print('\\nColunas:\\n', df.columns)"
   ]
  },
  {
   "cell_type": "code",
   "execution_count": 3,
   "id": "cd5e70e7",
   "metadata": {},
   "outputs": [
    {
     "name": "stdout",
     "output_type": "stream",
     "text": [
      "Valores dentro do type:\n",
      " ['Movie' 'TV Show']\n"
     ]
    }
   ],
   "source": [
    "# Verificando os diferentes valores da coluna type \n",
    "print('Valores dentro do type:\\n', df.type.unique())"
   ]
  },
  {
   "cell_type": "code",
   "execution_count": 4,
   "id": "d72e30d6",
   "metadata": {},
   "outputs": [],
   "source": [
    "# Fazendo a filtragem, removendo colunas que não serão utilizadas, renomeando colunas e resetando índice.\n",
    "df = df[df.type == 'Movie']\n",
    "\n",
    "df.drop(['show_id', 'type', 'director','cast', 'date_added', 'rating', 'description'], axis=1, inplace=True)\n",
    "\n",
    "df.rename(columns = {'title':'titulo', 'country':'pais', 'release_year':'ano_lancamento',\\\n",
    "                        'duration':'duracao', 'listed_in':'genero'}, inplace=True)\n",
    "\n",
    "df.reset_index(drop=True, inplace=True)"
   ]
  },
  {
   "cell_type": "code",
   "execution_count": 5,
   "id": "ec732b8d",
   "metadata": {},
   "outputs": [
    {
     "data": {
      "text/html": [
       "<div>\n",
       "<style scoped>\n",
       "    .dataframe tbody tr th:only-of-type {\n",
       "        vertical-align: middle;\n",
       "    }\n",
       "\n",
       "    .dataframe tbody tr th {\n",
       "        vertical-align: top;\n",
       "    }\n",
       "\n",
       "    .dataframe thead th {\n",
       "        text-align: right;\n",
       "    }\n",
       "</style>\n",
       "<table border=\"1\" class=\"dataframe\">\n",
       "  <thead>\n",
       "    <tr style=\"text-align: right;\">\n",
       "      <th></th>\n",
       "      <th>titulo</th>\n",
       "      <th>pais</th>\n",
       "      <th>ano_lancamento</th>\n",
       "      <th>duracao</th>\n",
       "      <th>genero</th>\n",
       "    </tr>\n",
       "  </thead>\n",
       "  <tbody>\n",
       "    <tr>\n",
       "      <th>0</th>\n",
       "      <td>Dick Johnson Is Dead</td>\n",
       "      <td>United States</td>\n",
       "      <td>2020</td>\n",
       "      <td>90 min</td>\n",
       "      <td>Documentaries</td>\n",
       "    </tr>\n",
       "    <tr>\n",
       "      <th>1</th>\n",
       "      <td>My Little Pony: A New Generation</td>\n",
       "      <td>NaN</td>\n",
       "      <td>2021</td>\n",
       "      <td>91 min</td>\n",
       "      <td>Children &amp; Family Movies</td>\n",
       "    </tr>\n",
       "    <tr>\n",
       "      <th>2</th>\n",
       "      <td>Sankofa</td>\n",
       "      <td>United States, Ghana, Burkina Faso, United Kin...</td>\n",
       "      <td>1993</td>\n",
       "      <td>125 min</td>\n",
       "      <td>Dramas, Independent Movies, International Movies</td>\n",
       "    </tr>\n",
       "    <tr>\n",
       "      <th>3</th>\n",
       "      <td>The Starling</td>\n",
       "      <td>United States</td>\n",
       "      <td>2021</td>\n",
       "      <td>104 min</td>\n",
       "      <td>Comedies, Dramas</td>\n",
       "    </tr>\n",
       "    <tr>\n",
       "      <th>4</th>\n",
       "      <td>Je Suis Karl</td>\n",
       "      <td>Germany, Czech Republic</td>\n",
       "      <td>2021</td>\n",
       "      <td>127 min</td>\n",
       "      <td>Dramas, International Movies</td>\n",
       "    </tr>\n",
       "  </tbody>\n",
       "</table>\n",
       "</div>"
      ],
      "text/plain": [
       "                             titulo  \\\n",
       "0              Dick Johnson Is Dead   \n",
       "1  My Little Pony: A New Generation   \n",
       "2                           Sankofa   \n",
       "3                      The Starling   \n",
       "4                      Je Suis Karl   \n",
       "\n",
       "                                                pais  ano_lancamento  duracao  \\\n",
       "0                                      United States            2020   90 min   \n",
       "1                                                NaN            2021   91 min   \n",
       "2  United States, Ghana, Burkina Faso, United Kin...            1993  125 min   \n",
       "3                                      United States            2021  104 min   \n",
       "4                            Germany, Czech Republic            2021  127 min   \n",
       "\n",
       "                                             genero  \n",
       "0                                     Documentaries  \n",
       "1                          Children & Family Movies  \n",
       "2  Dramas, Independent Movies, International Movies  \n",
       "3                                  Comedies, Dramas  \n",
       "4                      Dramas, International Movies  "
      ]
     },
     "execution_count": 5,
     "metadata": {},
     "output_type": "execute_result"
    }
   ],
   "source": [
    "df.head()"
   ]
  },
  {
   "cell_type": "markdown",
   "id": "e5fa87f7",
   "metadata": {},
   "source": [
    "### Preparação dos Dados - Parte 2\n",
    "* Verificação de dados faltantes;\n",
    "* Para a análise, irei retirar das colunas <code>pais</code>, <code>duracao</code> e <code>genero</code> apenas o primeiro valor presente na coluna. Além de converter a duracao para um número inteiro."
   ]
  },
  {
   "cell_type": "code",
   "execution_count": 6,
   "id": "57e42585",
   "metadata": {},
   "outputs": [
    {
     "data": {
      "text/plain": [
       "titulo              0\n",
       "pais              440\n",
       "ano_lancamento      0\n",
       "duracao             3\n",
       "genero              0\n",
       "dtype: int64"
      ]
     },
     "execution_count": 6,
     "metadata": {},
     "output_type": "execute_result"
    }
   ],
   "source": [
    "# Verificando a quantidade de dados faltantes em valores absolutos\n",
    "df.isnull().sum()"
   ]
  },
  {
   "cell_type": "code",
   "execution_count": 7,
   "id": "21156a57",
   "metadata": {},
   "outputs": [
    {
     "data": {
      "text/plain": [
       "titulo            0.00\n",
       "pais              7.18\n",
       "ano_lancamento    0.00\n",
       "duracao           0.05\n",
       "genero            0.00\n",
       "dtype: float64"
      ]
     },
     "execution_count": 7,
     "metadata": {},
     "output_type": "execute_result"
    }
   ],
   "source": [
    "# Verificando a quantidade dados faltantes em valores relativos\n",
    "((df.isnull().sum() / df.shape[0]) * 100).round(2)"
   ]
  },
  {
   "cell_type": "code",
   "execution_count": 8,
   "id": "7c5ecd26",
   "metadata": {},
   "outputs": [],
   "source": [
    "# Realizando as mudanças dos valores das colunas,\n",
    "# coletando o \"valor principal\"\n",
    "df.pais = df.pais.str.split(',', expand=True)[0]\n",
    "df.genero = df.genero.str.split(',', expand=True)[0]\n",
    "df.duracao = df.duracao.str.split(' ', expand=True)[0]"
   ]
  },
  {
   "cell_type": "code",
   "execution_count": 9,
   "id": "61cca1ca",
   "metadata": {},
   "outputs": [
    {
     "data": {
      "text/html": [
       "<div>\n",
       "<style scoped>\n",
       "    .dataframe tbody tr th:only-of-type {\n",
       "        vertical-align: middle;\n",
       "    }\n",
       "\n",
       "    .dataframe tbody tr th {\n",
       "        vertical-align: top;\n",
       "    }\n",
       "\n",
       "    .dataframe thead th {\n",
       "        text-align: right;\n",
       "    }\n",
       "</style>\n",
       "<table border=\"1\" class=\"dataframe\">\n",
       "  <thead>\n",
       "    <tr style=\"text-align: right;\">\n",
       "      <th></th>\n",
       "      <th>titulo</th>\n",
       "      <th>pais</th>\n",
       "      <th>ano_lancamento</th>\n",
       "      <th>duracao</th>\n",
       "      <th>genero</th>\n",
       "    </tr>\n",
       "  </thead>\n",
       "  <tbody>\n",
       "    <tr>\n",
       "      <th>0</th>\n",
       "      <td>Dick Johnson Is Dead</td>\n",
       "      <td>United States</td>\n",
       "      <td>2020</td>\n",
       "      <td>90</td>\n",
       "      <td>Documentaries</td>\n",
       "    </tr>\n",
       "    <tr>\n",
       "      <th>1</th>\n",
       "      <td>My Little Pony: A New Generation</td>\n",
       "      <td>NaN</td>\n",
       "      <td>2021</td>\n",
       "      <td>91</td>\n",
       "      <td>Children &amp; Family Movies</td>\n",
       "    </tr>\n",
       "    <tr>\n",
       "      <th>2</th>\n",
       "      <td>Sankofa</td>\n",
       "      <td>United States</td>\n",
       "      <td>1993</td>\n",
       "      <td>125</td>\n",
       "      <td>Dramas</td>\n",
       "    </tr>\n",
       "    <tr>\n",
       "      <th>3</th>\n",
       "      <td>The Starling</td>\n",
       "      <td>United States</td>\n",
       "      <td>2021</td>\n",
       "      <td>104</td>\n",
       "      <td>Comedies</td>\n",
       "    </tr>\n",
       "    <tr>\n",
       "      <th>4</th>\n",
       "      <td>Je Suis Karl</td>\n",
       "      <td>Germany</td>\n",
       "      <td>2021</td>\n",
       "      <td>127</td>\n",
       "      <td>Dramas</td>\n",
       "    </tr>\n",
       "  </tbody>\n",
       "</table>\n",
       "</div>"
      ],
      "text/plain": [
       "                             titulo           pais  ano_lancamento duracao  \\\n",
       "0              Dick Johnson Is Dead  United States            2020      90   \n",
       "1  My Little Pony: A New Generation            NaN            2021      91   \n",
       "2                           Sankofa  United States            1993     125   \n",
       "3                      The Starling  United States            2021     104   \n",
       "4                      Je Suis Karl        Germany            2021     127   \n",
       "\n",
       "                     genero  \n",
       "0             Documentaries  \n",
       "1  Children & Family Movies  \n",
       "2                    Dramas  \n",
       "3                  Comedies  \n",
       "4                    Dramas  "
      ]
     },
     "execution_count": 9,
     "metadata": {},
     "output_type": "execute_result"
    }
   ],
   "source": [
    "df.head()"
   ]
  },
  {
   "cell_type": "code",
   "execution_count": 10,
   "id": "cef28956",
   "metadata": {},
   "outputs": [
    {
     "data": {
      "text/plain": [
       "titulo             object\n",
       "pais               object\n",
       "ano_lancamento      int64\n",
       "duracao           float64\n",
       "genero             object\n",
       "dtype: object"
      ]
     },
     "execution_count": 10,
     "metadata": {},
     "output_type": "execute_result"
    }
   ],
   "source": [
    "# Convertendo a variável duracao de object para numérica.\n",
    "# Para preencher os valores missing\n",
    "df['duracao'] = df['duracao'].astype(float)\n",
    "\n",
    "df.dtypes"
   ]
  },
  {
   "cell_type": "code",
   "execution_count": 11,
   "id": "0e2141b0",
   "metadata": {},
   "outputs": [],
   "source": [
    "# Preenchendo valores NaN\n",
    "\n",
    "# categorica (pais) - preenchendo valores missing com a moda\n",
    "df.pais.fillna(df.pais.value_counts().idxmax(), inplace=True)\n",
    "\n",
    "# variavel numerica (duracao) - prencheendo valores missing com a média\n",
    "df.duracao.fillna(df.duracao.median(), inplace=True)"
   ]
  },
  {
   "cell_type": "code",
   "execution_count": 12,
   "id": "d7569604",
   "metadata": {},
   "outputs": [
    {
     "data": {
      "text/plain": [
       "titulo            object\n",
       "pais              object\n",
       "ano_lancamento     int64\n",
       "duracao            int32\n",
       "genero            object\n",
       "dtype: object"
      ]
     },
     "execution_count": 12,
     "metadata": {},
     "output_type": "execute_result"
    }
   ],
   "source": [
    "# Convertendo o valor float em int\n",
    "df.duracao = df.duracao.astype(int)\n",
    "df.dtypes"
   ]
  },
  {
   "cell_type": "markdown",
   "id": "d42b1b4f",
   "metadata": {},
   "source": [
    "### Análise - Parte 1"
   ]
  },
  {
   "cell_type": "code",
   "execution_count": 21,
   "id": "414a033e",
   "metadata": {},
   "outputs": [
    {
     "data": {
      "text/plain": [
       "titulo            object\n",
       "pais              object\n",
       "ano_lancamento     int64\n",
       "duracao            int32\n",
       "genero            object\n",
       "dtype: object"
      ]
     },
     "execution_count": 21,
     "metadata": {},
     "output_type": "execute_result"
    }
   ],
   "source": [
    "df.dtypes"
   ]
  },
  {
   "cell_type": "code",
   "execution_count": 26,
   "id": "66e6536c",
   "metadata": {},
   "outputs": [
    {
     "data": {
      "image/png": "[encoded data removed]",
      "text/plain": [
       "<Figure size 432x288 with 1 Axes>"
      ]
     },
     "metadata": {
      "needs_background": "light"
     },
     "output_type": "display_data"
    }
   ],
   "source": [
    "plt.hist(df.duracao)\n",
    "plt.show()"
   ]
  },
  {
   "cell_type": "code",
   "execution_count": 25,
   "id": "2743c503",
   "metadata": {},
   "outputs": [
    {
     "data": {
      "image/png": "[encoded data removed]",
      "text/plain": [
       "<Figure size 432x288 with 1 Axes>"
      ]
     },
     "metadata": {
      "needs_background": "light"
     },
     "output_type": "display_data"
    }
   ],
   "source": [
    "plt.boxplot(df.duracao)\n",
    "plt.show()"
   ]
  },
  {
   "cell_type": "code",
   "execution_count": 28,
   "id": "dfb5f7c4",
   "metadata": {},
   "outputs": [
    {
     "data": {
      "image/png": "[encoded data removed]",
      "text/plain": [
       "<Figure size 432x288 with 1 Axes>"
      ]
     },
     "metadata": {
      "needs_background": "light"
     },
     "output_type": "display_data"
    }
   ],
   "source": [
    "plt.boxplot(df.ano_lancamento)\n",
    "plt.show()"
   ]
  },
  {
   "cell_type": "code",
   "execution_count": 20,
   "id": "997c2fb3",
   "metadata": {},
   "outputs": [
    {
     "data": {
      "text/plain": [
       "<matplotlib.collections.PathCollection at 0x1f85e4c2760>"
      ]
     },
     "execution_count": 20,
     "metadata": {},
     "output_type": "execute_result"
    },
    {
     "data": {
      "image/png": "[encoded data removed]",
      "text/plain": [
       "<Figure size 432x288 with 1 Axes>"
      ]
     },
     "metadata": {
      "needs_background": "light"
     },
     "output_type": "display_data"
    }
   ],
   "source": [
    "plt.scatter(df.ano_lancamento, df.duracao)"
   ]
  },
  {
   "cell_type": "code",
   "execution_count": null,
   "id": "5c2d1ff7",
   "metadata": {},
   "outputs": [],
   "source": []
  }
 ],
 "metadata": {
  "kernelspec": {
   "display_name": "Python 3 (ipykernel)",
   "language": "python",
   "name": "python3"
  },
  "language_info": {
   "codemirror_mode": {
    "name": "ipython",
    "version": 3
   },
   "file_extension": ".py",
   "mimetype": "text/x-python",
   "name": "python",
   "nbconvert_exporter": "python",
   "pygments_lexer": "ipython3",
   "version": "3.9.7"
  }
 },
 "nbformat": 4,
 "nbformat_minor": 5
}
